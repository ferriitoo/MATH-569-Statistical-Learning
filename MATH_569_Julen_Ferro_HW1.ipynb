{
 "cells": [
  {
   "attachments": {},
   "cell_type": "markdown",
   "metadata": {},
   "source": [
    "This is the HW1 of the subject."
   ]
  },
  {
   "cell_type": "code",
   "execution_count": 12,
   "metadata": {},
   "outputs": [
    {
     "name": "stdout",
     "output_type": "stream",
     "text": [
      "[[0.3, 0.7], [0.8, 0.2]]\n"
     ]
    }
   ],
   "source": [
    "import pandas as pd\n",
    "import numpy as np\n",
    "import matplotlib.pyplot as plt\n",
    "import random as rand\n",
    "\n",
    "N = 1000 # Number of points\n",
    "\n",
    "w1 = 0.3\n",
    "w2 = round(1.0 - w1, 2)\n",
    "w3 = 0.8\n",
    "w4 = round(1.0 - w3, 2)\n",
    "\n",
    "w = [[w1, w2], [w3, w4]]\n",
    "print(w)\n",
    "\n",
    "classes = 2\n",
    "\n",
    "orange_pho = [[1, 0], [0, 1]]\n",
    "blue_pho = [[-3, 0], [0, 2]]\n",
    "\n",
    "\n",
    "def plot(x, y):\n",
    "    plt.xlabel(\"X1\")\n",
    "    plt.ylabel(\"X2\")\n",
    "    plt.title(\"Gaussian distribution\")\n",
    "    plt.scatter(x, y)\n",
    "    plt.show()\n",
    "\n",
    "variance_mat = np.identity(2)\n"
   ]
  },
  {
   "attachments": {},
   "cell_type": "markdown",
   "metadata": {},
   "source": [
    "After having defined the main variables and functions, the main program will be coded."
   ]
  },
  {
   "cell_type": "code",
   "execution_count": 13,
   "metadata": {},
   "outputs": [
    {
     "name": "stdout",
     "output_type": "stream",
     "text": [
      "[[0.3 0. ]\n",
      " [0.  0.2]]\n"
     ]
    }
   ],
   "source": [
    "f = w * variance_mat # asi solo multiplica elemento por elemento, no matricialmente\n",
    "print(f)\n",
    "\n",
    "# for i in range(N):\n",
    "#     for j in range(classes):\n",
    "#         random.gauss(orange_pho*variance_mat)\n",
    "#         random.gauss(blue_pho*variance_mat)\n",
    "\n"
   ]
  }
 ],
 "metadata": {
  "kernelspec": {
   "display_name": "Python 3",
   "language": "python",
   "name": "python3"
  },
  "language_info": {
   "codemirror_mode": {
    "name": "ipython",
    "version": 3
   },
   "file_extension": ".py",
   "mimetype": "text/x-python",
   "name": "python",
   "nbconvert_exporter": "python",
   "pygments_lexer": "ipython3",
   "version": "3.11.1"
  },
  "orig_nbformat": 4,
  "vscode": {
   "interpreter": {
    "hash": "ce1d8959c33a2e61ecc74f315a4ba8ed11d5f53f58d8740974d2d5d088c8918c"
   }
  }
 },
 "nbformat": 4,
 "nbformat_minor": 2
}
